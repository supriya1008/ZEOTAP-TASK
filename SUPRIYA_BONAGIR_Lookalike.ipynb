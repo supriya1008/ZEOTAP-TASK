{
  "nbformat": 4,
  "nbformat_minor": 0,
  "metadata": {
    "colab": {
      "provenance": []
    },
    "kernelspec": {
      "name": "python3",
      "display_name": "Python 3"
    },
    "language_info": {
      "name": "python"
    }
  },
  "cells": [
    {
      "cell_type": "code",
      "execution_count": 1,
      "metadata": {
        "colab": {
          "base_uri": "https://localhost:8080/"
        },
        "id": "YoSzAnXLMnPf",
        "outputId": "07800b3f-3460-433d-af38-88ca6b700bee"
      },
      "outputs": [
        {
          "output_type": "stream",
          "name": "stdout",
          "text": [
            "Lookalike recommendations saved to Lookalike.csv\n"
          ]
        }
      ],
      "source": [
        "import pandas as pd\n",
        "from sklearn.metrics.pairwise import cosine_similarity\n",
        "from sklearn.preprocessing import StandardScaler\n",
        "\n",
        "# Load datasets\n",
        "customers = pd.read_csv(\"Customers.csv\")\n",
        "products = pd.read_csv(\"Products.csv\")\n",
        "transactions = pd.read_csv(\"/content/Transactions - Transactions.csv\")\n",
        "\n",
        "# Merge datasets\n",
        "merged_data = transactions.merge(customers, on=\"CustomerID\", how=\"left\").merge(products, on=\"ProductID\", how=\"left\")\n",
        "\n",
        "# Use Price_x (from Transactions.csv) for calculations\n",
        "# Feature engineering: Aggregate data by customer\n",
        "customer_features = merged_data.groupby(\"CustomerID\").agg(\n",
        "    TotalSpent=(\"TotalValue\", \"sum\"),\n",
        "    TotalQuantity=(\"Quantity\", \"sum\"),\n",
        "    AveragePrice=(\"Price_x\", \"mean\"),  # Use Price_x for average price\n",
        "    Transactions=(\"TransactionID\", \"count\")\n",
        ").reset_index()\n",
        "\n",
        "# Standardize numerical features\n",
        "scaler = StandardScaler()\n",
        "scaled_features = scaler.fit_transform(customer_features.iloc[:, 1:])\n",
        "\n",
        "# Compute cosine similarity\n",
        "similarity_matrix = cosine_similarity(scaled_features)\n",
        "\n",
        "# Generate lookalike recommendations for the first 20 customers\n",
        "lookalikes = {}\n",
        "for i, customer_id in enumerate(customer_features[\"CustomerID\"][:20]):\n",
        "    similarities = list(enumerate(similarity_matrix[i]))\n",
        "    # Sort by similarity score and exclude the customer itself\n",
        "    sorted_similarities = sorted(similarities, key=lambda x: -x[1])[1:4]\n",
        "    lookalikes[customer_id] = [(customer_features[\"CustomerID\"][j], score) for j, score in sorted_similarities]\n",
        "\n",
        "# Prepare lookalike recommendations for output\n",
        "lookalike_data = []\n",
        "for cust_id, recommendations in lookalikes.items():\n",
        "    for rec_id, score in recommendations:\n",
        "        lookalike_data.append({\"CustomerID\": cust_id, \"SimilarCustomerID\": rec_id, \"SimilarityScore\": score})\n",
        "\n",
        "# Save results to Lookalike.csv\n",
        "lookalike_df = pd.DataFrame(lookalike_data)\n",
        "lookalike_df.to_csv(\"Lookalike.csv\", index=False)\n",
        "\n",
        "print(\"Lookalike recommendations saved to Lookalike.csv\")\n"
      ]
    },
    {
      "cell_type": "markdown",
      "source": [
        "Download the lookalike.csv by running the below cell\n"
      ],
      "metadata": {
        "id": "yLQfUtN1M7Py"
      }
    },
    {
      "cell_type": "code",
      "source": [
        "from google.colab import files\n",
        "files.download(\"Lookalike.csv\")\n"
      ],
      "metadata": {
        "colab": {
          "base_uri": "https://localhost:8080/",
          "height": 17
        },
        "id": "cG3r5DRbNFMF",
        "outputId": "e0c59254-c03d-4a78-cea8-2c0a82344b79"
      },
      "execution_count": 2,
      "outputs": [
        {
          "output_type": "display_data",
          "data": {
            "text/plain": [
              "<IPython.core.display.Javascript object>"
            ],
            "application/javascript": [
              "\n",
              "    async function download(id, filename, size) {\n",
              "      if (!google.colab.kernel.accessAllowed) {\n",
              "        return;\n",
              "      }\n",
              "      const div = document.createElement('div');\n",
              "      const label = document.createElement('label');\n",
              "      label.textContent = `Downloading \"${filename}\": `;\n",
              "      div.appendChild(label);\n",
              "      const progress = document.createElement('progress');\n",
              "      progress.max = size;\n",
              "      div.appendChild(progress);\n",
              "      document.body.appendChild(div);\n",
              "\n",
              "      const buffers = [];\n",
              "      let downloaded = 0;\n",
              "\n",
              "      const channel = await google.colab.kernel.comms.open(id);\n",
              "      // Send a message to notify the kernel that we're ready.\n",
              "      channel.send({})\n",
              "\n",
              "      for await (const message of channel.messages) {\n",
              "        // Send a message to notify the kernel that we're ready.\n",
              "        channel.send({})\n",
              "        if (message.buffers) {\n",
              "          for (const buffer of message.buffers) {\n",
              "            buffers.push(buffer);\n",
              "            downloaded += buffer.byteLength;\n",
              "            progress.value = downloaded;\n",
              "          }\n",
              "        }\n",
              "      }\n",
              "      const blob = new Blob(buffers, {type: 'application/binary'});\n",
              "      const a = document.createElement('a');\n",
              "      a.href = window.URL.createObjectURL(blob);\n",
              "      a.download = filename;\n",
              "      div.appendChild(a);\n",
              "      a.click();\n",
              "      div.remove();\n",
              "    }\n",
              "  "
            ]
          },
          "metadata": {}
        },
        {
          "output_type": "display_data",
          "data": {
            "text/plain": [
              "<IPython.core.display.Javascript object>"
            ],
            "application/javascript": [
              "download(\"download_7879cca4-f1f0-428f-ad51-c7adf4a221e4\", \"Lookalike.csv\", 1897)"
            ]
          },
          "metadata": {}
        }
      ]
    }
  ]
}